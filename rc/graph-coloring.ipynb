{
 "cells": [
  {
   "cell_type": "code",
   "execution_count": 23,
   "metadata": {},
   "outputs": [],
   "source": [
    "graph1 = {\n",
    "    1: [2],\n",
    "    2: [3],\n",
    "    3: [1]\n",
    "}"
   ]
  },
  {
   "cell_type": "code",
   "execution_count": 53,
   "metadata": {},
   "outputs": [],
   "source": [
    "class Graph:\n",
    "    def __init__(self, graph):\n",
    "        self.graph = graph\n",
    "        self.n = self.__get_n()\n",
    "        self.m = self.__get_m()\n",
    "        \n",
    "    def edges(self):\n",
    "        edges = []\n",
    "        for key in self.graph.keys():\n",
    "            for connection in self.graph[key]:\n",
    "                edges.append((key, connection))\n",
    "        return edges\n",
    "\n",
    "    def __get_n(self):\n",
    "        return len(self.graph.keys())\n",
    "    \n",
    "    def __get_m(self):\n",
    "        m = 0\n",
    "        for k in self.graph.keys():\n",
    "            m += len(self.graph[k])\n",
    "        return m\n",
    "    \n",
    "    def encode_as_cnf(self):\n",
    "        \n",
    "        clauses = [f'p cnf {} {}']\n",
    "        for v in range(1, self.n + 1):\n",
    "            clauses.append(f'{v} {self.n+v} {2*self.n+v} 0')\n",
    "            \n",
    "        for u, v in g.edges():\n",
    "            clauses.append(f'{-u} {-v} 0')\n",
    "            clauses.append(f'{-self.n-u} {-self.n-v} 0')\n",
    "            clauses.append(f'{-2*self.n-u} {-2*self.n-v} 0')\n",
    "        \n",
    "        return '\\n'.join(clauses)\n",
    "        #for n1, n2 in g.edges():\n",
    "            \n",
    "    \n",
    "g = Graph(graph1)"
   ]
  },
  {
   "cell_type": "code",
   "execution_count": 54,
   "metadata": {},
   "outputs": [],
   "source": [
    "\n",
    "def solve_graph_coloring(g):\n",
    "    \n",
    "    n = g.n\n",
    "    m = g.m\n",
    "    \n",
    "    n_clauses = 3*m+n\n",
    "    n_vars = 3*n\n",
    "    clauses = []\n",
    "    for u, v in g.edges():\n",
    "        clauses.append((-u, -v)) # corresponding to red color\n",
    "        clauses.append((-(n+u), -(n+v))) # corresponding to green \n",
    "        clauses.append((-(2*n+u), -(2*n+v))) # corresponds to blue\n",
    "    for v in range(1, n+1):\n",
    "        clauses.append((v, n+v, 2*n+v)) # at least one color\n",
    "    print_clauses(clauses)"
   ]
  },
  {
   "cell_type": "code",
   "execution_count": 55,
   "metadata": {},
   "outputs": [
    {
     "name": "stdout",
     "output_type": "stream",
     "text": [
      "1 4 7 0\n",
      "2 5 8 0\n",
      "3 6 9 0\n",
      "-1 -2 0\n",
      "-4 -5 0\n",
      "-7 -8 0\n",
      "-2 -3 0\n",
      "-5 -6 0\n",
      "-8 -9 0\n",
      "-3 -1 0\n",
      "-6 -4 0\n",
      "-9 -7 0\n"
     ]
    }
   ],
   "source": [
    "print(g.encode_as_cnf())"
   ]
  },
  {
   "cell_type": "code",
   "execution_count": null,
   "metadata": {},
   "outputs": [],
   "source": []
  }
 ],
 "metadata": {
  "kernelspec": {
   "display_name": "Python 3",
   "language": "python",
   "name": "python3"
  },
  "language_info": {
   "codemirror_mode": {
    "name": "ipython",
    "version": 3
   },
   "file_extension": ".py",
   "mimetype": "text/x-python",
   "name": "python",
   "nbconvert_exporter": "python",
   "pygments_lexer": "ipython3",
   "version": "3.6.6"
  }
 },
 "nbformat": 4,
 "nbformat_minor": 2
}
