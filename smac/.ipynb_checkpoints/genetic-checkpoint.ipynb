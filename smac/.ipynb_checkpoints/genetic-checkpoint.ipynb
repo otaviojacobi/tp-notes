{
 "cells": [
  {
   "cell_type": "code",
   "execution_count": 183,
   "metadata": {},
   "outputs": [],
   "source": [
    "import numpy as np\n",
    "import tensorflow as tf\n",
    "from tensorflow import keras\n",
    "from tensorflow.keras.datasets import mnist\n",
    "\n",
    "from tensorflow.keras.models import Sequential\n",
    "from tensorflow.keras.layers import Dense\n",
    "\n",
    "import random\n",
    "from random import choice\n",
    "\n",
    "from copy import deepcopy\n",
    "\n",
    "import math"
   ]
  },
  {
   "cell_type": "code",
   "execution_count": 234,
   "metadata": {},
   "outputs": [],
   "source": [
    "ACTIVATIONS = ['relu', 'sigmoid', 'softmax', 'tanh', 'elu']\n",
    "\n",
    "class Individual:\n",
    "\n",
    "    def __init__(self, config=None):\n",
    "        \"\"\"\n",
    "        An individual is in the form of a 11 values vector\n",
    "        [n0, n1, n2, n3, n4, n5, n6, n7, n8, n9] where\n",
    "        [n0-n4] are the amount of neurons per layer\n",
    "        [n5-n9] are the activation function on each layer\n",
    "        n10 is the activation function on the last layer\n",
    "        \n",
    "        If any neuron in n0-n4 is 0, it's like having less layers\n",
    "        \"\"\"\n",
    "        \n",
    "        \n",
    "        self.config = self.__generate_random() if config == None else config\n",
    "        self.nn = self.__build_nn()\n",
    "        self._initial_w = self.nn.get_weights()\n",
    "\n",
    "    \n",
    "    def __build_nn(self):\n",
    "        \n",
    "        model = Sequential()\n",
    "        \n",
    "        for idx, neurons in enumerate(self.config[:5]):\n",
    "            if idx == 0:\n",
    "                model.add(Dense(neurons, activation=self.config[5], input_shape=(784,)))\n",
    "            \n",
    "            if neurons != 0:\n",
    "                model.add(Dense(neurons, activation=self.config[5]))\n",
    "            \n",
    "        model.add(Dense(10, activation=self.config[-1]))\n",
    "        \n",
    "        model.compile(optimizer='adam', loss='categorical_crossentropy',metrics=['accuracy'])\n",
    "        \n",
    "        return model\n",
    "        \n",
    "        \n",
    "    def __generate_random(self):\n",
    "\n",
    "        return [\n",
    "            random.randint(1, 64),\n",
    "            random.randint(0, 64),\n",
    "            random.randint(0, 64),\n",
    "            random.randint(0, 64),\n",
    "            random.randint(0, 64),\n",
    "            choice(ACTIVATIONS),\n",
    "            choice(ACTIVATIONS),\n",
    "        ]\n",
    "    \n",
    "    def fitness(self, X_train, y_train, X_test, y_test):\n",
    "        self.nn.set_weights(self._initial_w)\n",
    "\n",
    "        history = self.nn.fit(X_train, \n",
    "                              y_train, \n",
    "                              epochs=4, \n",
    "                              batch_size=256, \n",
    "                              verbose=0,\n",
    "                              validation_data=(X_test, y_test))\n",
    "\n",
    "        acc = history.history['accuracy'][-1]\n",
    "        val_acc = history.history['val_accuracy'][-1]\n",
    "        return acc\n",
    "        \n",
    "\n",
    "class AutoML:\n",
    "    def __init__(self):\n",
    "        \n",
    "        # AutML hyperparameters\n",
    "        self.SIZE = 10\n",
    "        self.RETAIN = 0.5\n",
    "        self.GENERATIONS = 10\n",
    "        self.MUTATION_RATE = 0.10\n",
    "        \n",
    "        self._retain_int = int(self.SIZE * self.RETAIN)\n",
    "   \n",
    "        self.pop = self.__generate_pop(self.SIZE)\n",
    "        self.best_individual = None\n",
    "        self.best_score = -math.inf\n",
    "\n",
    "    \n",
    "    def fit(self, X, y):\n",
    "        \n",
    "        split_idx = int(len(X)*0.8)\n",
    "        \n",
    "        X_train = X[:split_idx]\n",
    "        y_train = y[:split_idx]\n",
    "        X_val = X[split_idx:]\n",
    "        y_val = y[split_idx:]\n",
    "        \n",
    "        for GENERATION in range(self.GENERATIONS):\n",
    "            # calculate score for each one\n",
    "            scored = [ (p, p.fitness(X, y)) for p in self.pop ]\n",
    "\n",
    "            # sort the population\n",
    "            sorted_pop = sorted(scored, key=lambda p: p[1], reverse=True)\n",
    "            \n",
    "            avg_fitness = sum([p[1] for p in sorted_pop])/float(self.SIZE)\n",
    "            \n",
    "            print(f'Average fitness {avg_fitness} on iteration {GENERATION}')\n",
    "\n",
    "            best = sorted_pop[0]\n",
    "\n",
    "            if best[1] > self.best_score:\n",
    "                self.best_score = best[1]\n",
    "                self.best_individual = best[0]\n",
    "\n",
    "            sorted_pop = [v[0] for v in sorted_pop[:self._retain_int]]\n",
    "\n",
    "            while len(sorted_pop) < self.SIZE:\n",
    "\n",
    "                idx_p1 = random.randint(0, self._retain_int-1)\n",
    "                idx_p2 = random.randint(0, self._retain_int-1)\n",
    "                while idx_p2 == idx_p1:\n",
    "                    idx_p2 = random.randint(0, self._retain_int-1)\n",
    "\n",
    "                new = self.recombine(sorted_pop[idx_p1], sorted_pop[idx_p2])\n",
    "\n",
    "                sorted_pop.append(new)\n",
    "\n",
    "            assert len(sorted_pop) == self.SIZE\n",
    "\n",
    "            self.pop = []\n",
    "            for i in sorted_pop:\n",
    "                if random.random() < self.MUTATION_RATE:\n",
    "                    self.pop.append(self.mutate(i))\n",
    "                else:\n",
    "                    self.pop.append(i)\n",
    "        \n",
    "        return self.best_individual, self.best_score\n",
    "    \n",
    "    \n",
    "    def recombine(self, p1, p2):\n",
    "        p1 = p1.config\n",
    "        p2 = p2.config\n",
    "        \n",
    "        split_idx = random.randint(0, len(p1))\n",
    "        \n",
    "        child = deepcopy(p1[:split_idx])\n",
    "        child += deepcopy(p2[split_idx:])\n",
    "        \n",
    "        return Individual(child)\n",
    "        \n",
    "    def mutate(self, p):\n",
    "        p = p.config\n",
    "        \n",
    "        idx = random.randint(0, len(p)-1) # selects on property to change\n",
    "        cur_value = p[idx]\n",
    "        \n",
    "        while p[idx] == cur_value:      # ensure we are changing\n",
    "            if idx < 5:\n",
    "                p[idx] = random.randint(0, 64)\n",
    "            else:\n",
    "                p[idx] = choice(ACTIVATIONS)\n",
    "                \n",
    "        return Individual(p)\n",
    "    \n",
    "    def __generate_pop(self, size):\n",
    "        pop = []\n",
    "        for _ in range(size):\n",
    "            pop.append(self.__generate_individual())\n",
    "            \n",
    "        return pop\n",
    "            \n",
    "\n",
    "    def __generate_individual(self):\n",
    "        return Individual()"
   ]
  },
  {
   "cell_type": "code",
   "execution_count": 235,
   "metadata": {},
   "outputs": [],
   "source": [
    "(X_train, y_train), (X_test, y_test) = mnist.load_data()"
   ]
  },
  {
   "cell_type": "code",
   "execution_count": 236,
   "metadata": {},
   "outputs": [],
   "source": [
    "# Normalize the images.\n",
    "X_train = (X_train / 255.) - 0.5\n",
    "X_test = (X_test / 255.) - 0.5\n",
    "\n",
    "# Flatten the images.\n",
    "X_train = X_train.reshape((-1, 784))\n",
    "X_test = X_test.reshape((-1, 784))\n",
    "\n",
    "y_train = keras.utils.to_categorical(y_train)\n",
    "y_test = keras.utils.to_categorical(y_test)"
   ]
  },
  {
   "cell_type": "code",
   "execution_count": 237,
   "metadata": {},
   "outputs": [],
   "source": [
    "a = AutoML()"
   ]
  },
  {
   "cell_type": "code",
   "execution_count": 238,
   "metadata": {},
   "outputs": [
    {
     "name": "stdout",
     "output_type": "stream",
     "text": [
      "Average fitness 0.15213666781783103 on iteration 0\n",
      "Average fitness 0.17387166991829872 on iteration 1\n",
      "Average fitness 0.4282566629350185 on iteration 2\n",
      "Average fitness 0.5792799927294254 on iteration 3\n",
      "Average fitness 0.7538616612553597 on iteration 4\n",
      "Average fitness 0.9392933249473572 on iteration 5\n",
      "Average fitness 0.9392933309078216 on iteration 6\n",
      "Average fitness 0.8574966669082642 on iteration 7\n",
      "Average fitness 0.9416049957275391 on iteration 8\n",
      "Average fitness 0.9440533339977264 on iteration 9\n"
     ]
    }
   ],
   "source": [
    "bi, bscore = a.fit(X_train, y_train)"
   ]
  },
  {
   "cell_type": "code",
   "execution_count": 239,
   "metadata": {},
   "outputs": [
    {
     "data": {
      "text/plain": [
       "0.9498166441917419"
      ]
     },
     "execution_count": 239,
     "metadata": {},
     "output_type": "execute_result"
    }
   ],
   "source": [
    "bscore"
   ]
  },
  {
   "cell_type": "code",
   "execution_count": 243,
   "metadata": {},
   "outputs": [
    {
     "data": {
      "text/plain": [
       "[26, 63, 25, 20, 53, 'tanh', 'softmax']"
      ]
     },
     "execution_count": 243,
     "metadata": {},
     "output_type": "execute_result"
    }
   ],
   "source": [
    "a.pop[1].config"
   ]
  },
  {
   "cell_type": "code",
   "execution_count": 244,
   "metadata": {},
   "outputs": [],
   "source": [
    "model = Sequential()\n",
    "\n",
    "model.add(Dense(64, activation='relu', input_shape=(784,)))\n",
    "\n",
    "\n",
    "model.add(Dense(64, activation='relu'))\n",
    "\n",
    "model.add(Dense(10, activation='softmax'))\n",
    "\n",
    "model.compile(optimizer='adam', loss='categorical_crossentropy',metrics=['accuracy'])"
   ]
  },
  {
   "cell_type": "code",
   "execution_count": 246,
   "metadata": {},
   "outputs": [
    {
     "name": "stdout",
     "output_type": "stream",
     "text": [
      "Epoch 1/4\n",
      "235/235 [==============================] - 1s 4ms/step - loss: 0.5748 - accuracy: 0.8343\n",
      "Epoch 2/4\n",
      "235/235 [==============================] - 1s 4ms/step - loss: 0.2685 - accuracy: 0.9213\n",
      "Epoch 3/4\n",
      "235/235 [==============================] - 1s 4ms/step - loss: 0.2168 - accuracy: 0.9361\n",
      "Epoch 4/4\n",
      "235/235 [==============================] - 1s 4ms/step - loss: 0.1828 - accuracy: 0.9461\n"
     ]
    }
   ],
   "source": [
    "history = model.fit(X_train, y_train, epochs=4, batch_size=256)"
   ]
  },
  {
   "cell_type": "code",
   "execution_count": 252,
   "metadata": {},
   "outputs": [],
   "source": [
    "model = Sequential()\n",
    "\n",
    "model.add(Dense(26, activation='relu', input_shape=(784,)))\n",
    "model.add(Dense(63, activation='relu'))\n",
    "\n",
    "model.add(Dense(25, activation='relu'))\n",
    "model.add(Dense(20, activation='relu'))\n",
    "model.add(Dense(53, activation='relu'))\n",
    "\n",
    "model.add(Dense(10, activation='softmax'))\n",
    "\n",
    "model.compile(optimizer='adam', loss='categorical_crossentropy', metrics=['accuracy'])"
   ]
  },
  {
   "cell_type": "code",
   "execution_count": 253,
   "metadata": {},
   "outputs": [
    {
     "name": "stdout",
     "output_type": "stream",
     "text": [
      "Epoch 1/4\n",
      "235/235 [==============================] - 2s 7ms/step - loss: 0.8930 - accuracy: 0.7133 - val_loss: 0.4036 - val_accuracy: 0.8803\n",
      "Epoch 2/4\n",
      "235/235 [==============================] - 1s 6ms/step - loss: 0.3620 - accuracy: 0.8911 - val_loss: 0.3072 - val_accuracy: 0.9061\n",
      "Epoch 3/4\n",
      "235/235 [==============================] - 1s 6ms/step - loss: 0.2928 - accuracy: 0.9107 - val_loss: 0.2560 - val_accuracy: 0.9249\n",
      "Epoch 4/4\n",
      "235/235 [==============================] - 1s 6ms/step - loss: 0.2518 - accuracy: 0.9239 - val_loss: 0.2389 - val_accuracy: 0.9266\n"
     ]
    }
   ],
   "source": [
    "history = model.fit(X_train, y_train, validation_data=(X_test, y_test), epochs=4, batch_size=256)"
   ]
  },
  {
   "cell_type": "code",
   "execution_count": null,
   "metadata": {},
   "outputs": [],
   "source": []
  }
 ],
 "metadata": {
  "kernelspec": {
   "display_name": "Python 3",
   "language": "python",
   "name": "python3"
  },
  "language_info": {
   "codemirror_mode": {
    "name": "ipython",
    "version": 3
   },
   "file_extension": ".py",
   "mimetype": "text/x-python",
   "name": "python",
   "nbconvert_exporter": "python",
   "pygments_lexer": "ipython3",
   "version": "3.8.0"
  }
 },
 "nbformat": 4,
 "nbformat_minor": 4
}
